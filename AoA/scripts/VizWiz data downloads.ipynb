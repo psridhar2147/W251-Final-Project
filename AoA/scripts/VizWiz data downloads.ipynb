{
 "cells": [
  {
   "cell_type": "markdown",
   "metadata": {},
   "source": [
    "## Data downloads for AoA Net model training\n",
    "\n",
    "This notebook downloads the necessary data files needed for training the AoA Net model. \n",
    " "
   ]
  },
  {
   "cell_type": "code",
   "execution_count": 1,
   "metadata": {},
   "outputs": [
    {
     "name": "stdout",
     "output_type": "stream",
     "text": [
      "WARNING:tensorflow:From /home/ubuntu/anaconda3/envs/tensorflow_p36/lib/python3.6/site-packages/tensorflow_core/__init__.py:1467: The name tf.estimator.inputs is deprecated. Please use tf.compat.v1.estimator.inputs instead.\n",
      "\n"
     ]
    },
    {
     "name": "stderr",
     "output_type": "stream",
     "text": [
      "Using TensorFlow backend.\n"
     ]
    }
   ],
   "source": [
    "import time\n",
    "import json\n",
    "import matplotlib.pyplot as plt\n",
    "import tensorflow as tf\n",
    "from tensorflow import keras as keras\n",
    "from keras.backend.tensorflow_backend import set_session\n",
    "import keras\n",
    "from keras.applications import VGG16, ResNet50\n",
    "from keras import models\n",
    "import sys, time, os, warnings \n",
    "import string\n",
    "import numpy as np\n",
    "import pandas as pd \n",
    "import random\n",
    "import pickle\n",
    "from pickle import dump, load\n",
    "from collections import Counter \n",
    "from keras.preprocessing.image import load_img\n",
    "from nltk.tokenize import word_tokenize\n",
    "\n",
    "warnings.filterwarnings(\"ignore\")"
   ]
  },
  {
   "cell_type": "code",
   "execution_count": 2,
   "metadata": {},
   "outputs": [
    {
     "name": "stdout",
     "output_type": "stream",
     "text": [
      "python 3.6.6 |Anaconda, Inc.| (default, Oct  9 2018, 12:34:16) \n",
      "[GCC 7.3.0]\n",
      "keras version 2.2.4\n",
      "tensorflow version 1.15.2\n"
     ]
    }
   ],
   "source": [
    "print(\"python {}\".format(sys.version))\n",
    "print(\"keras version {}\".format(keras.__version__)); \n",
    "print(\"tensorflow version {}\".format(tf.__version__))\n"
   ]
  },
  {
   "cell_type": "code",
   "execution_count": 4,
   "metadata": {},
   "outputs": [
    {
     "name": "stdout",
     "output_type": "stream",
     "text": [
      "/home/ubuntu/image_captioning/AoA/scripts\n"
     ]
    }
   ],
   "source": [
    "print(os.path.abspath('.'))"
   ]
  },
  {
   "cell_type": "code",
   "execution_count": 6,
   "metadata": {},
   "outputs": [],
   "source": [
    "# Download COCO vocabulary for fine tuning the model\n",
    "data_folder = '../data/'\n",
    "if not os.path.exists(os.path.abspath('.') + data_folder):\n",
    "  annotation_zip = tf.keras.utils.get_file('cocotalk_vocab.json',\n",
    "                                          cache_subdir=os.path.abspath('../data'),\n",
    "                                          origin = 'http://ivc.ischool.utexas.edu/VizWiz_final/caption/AoANet_VizWiz/data/cocotalk_vocab.json',\n",
    "                                          extract = False)\n",
    "  #annotation_file = os.path.dirname(annotation_zip)+'/annotations/vizwiz_train.json'\n",
    "  coco_vocab_file = os.path.abspath('../data') + '/cocotalk_vocab.json'\n",
    "  #os.remove(annotation_zip)"
   ]
  },
  {
   "cell_type": "code",
   "execution_count": 10,
   "metadata": {},
   "outputs": [
    {
     "name": "stdout",
     "output_type": "stream",
     "text": [
      "Downloading data from http://ivc.ischool.utexas.edu/VizWiz_final/caption/annotations.zip\n",
      "4513792/4509069 [==============================] - 0s 0us/step\n"
     ]
    }
   ],
   "source": [
    "# Download VizWiz captions\n",
    "data_folder = '../data/'\n",
    "if not os.path.exists(os.path.abspath('.') + data_folder):\n",
    "  captions_zip = tf.keras.utils.get_file('annotations.zip',\n",
    "                                      cache_subdir=os.path.abspath('../data'),\n",
    "                                      origin = 'http://ivc.ischool.utexas.edu/VizWiz_final/caption/annotations.zip',\n",
    "                                      extract = True)\n",
    "  #PATH = os.path.dirname(image_zip) + image_folder\n",
    "  os.remove(captions_zip)\n",
    "else:\n",
    "  captions_dir = os.path.abspath('.') + data_folder + '/annotations/'"
   ]
  },
  {
   "cell_type": "code",
   "execution_count": 3,
   "metadata": {},
   "outputs": [
    {
     "name": "stdout",
     "output_type": "stream",
     "text": [
      "Downloading data from http://ivc.ischool.utexas.edu/VizWiz_final/caption/AoANet_VizWiz/data/tsv.zip\n",
      "3934707712/3934705873 [==============================] - 119s 0us/step\n"
     ]
    }
   ],
   "source": [
    "# Download pre-extracted features from bottom-up attention model \n",
    "data_folder = '../data/'\n",
    "if not os.path.exists(os.path.abspath('.') + data_folder):\n",
    "  tsv_zip = tf.keras.utils.get_file('tsv.zip',\n",
    "                                      cache_subdir=os.path.abspath('../data'),\n",
    "                                      origin = 'http://ivc.ischool.utexas.edu/VizWiz_final/caption/AoANet_VizWiz/data/tsv.zip',\n",
    "                                      extract = True)\n",
    "  #PATH = os.path.dirname(image_zip) + image_folder\n",
    "  os.remove(tsv_zip)\n",
    "else:\n",
    "  tsv_dir = os.path.abspath('.') + data_folder "
   ]
  },
  {
   "cell_type": "code",
   "execution_count": null,
   "metadata": {},
   "outputs": [],
   "source": []
  }
 ],
 "metadata": {
  "kernelspec": {
   "display_name": "Environment (conda_tensorflow_p36)",
   "language": "python",
   "name": "conda_tensorflow_p36"
  },
  "language_info": {
   "codemirror_mode": {
    "name": "ipython",
    "version": 3
   },
   "file_extension": ".py",
   "mimetype": "text/x-python",
   "name": "python",
   "nbconvert_exporter": "python",
   "pygments_lexer": "ipython3",
   "version": "3.6.6"
  }
 },
 "nbformat": 4,
 "nbformat_minor": 2
}
