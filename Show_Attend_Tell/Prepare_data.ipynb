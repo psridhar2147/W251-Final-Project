{
 "cells": [
  {
   "cell_type": "code",
   "execution_count": 1,
   "metadata": {},
   "outputs": [],
   "source": [
    "from pathlib import Path\n",
    "import json\n",
    "import pandas as pd\n",
    "import pickle\n",
    "from tqdm import tqdm"
   ]
  },
  {
   "cell_type": "code",
   "execution_count": 2,
   "metadata": {},
   "outputs": [],
   "source": [
    "from dask import delayed\n",
    "import dask.bag as db\n",
    "from operator import add\n",
    "from PIL import Image"
   ]
  },
  {
   "cell_type": "code",
   "execution_count": 3,
   "metadata": {},
   "outputs": [],
   "source": [
    "from fastai.text import *\n",
    "from fastai.callbacks import SaveModelCallback, ReduceLROnPlateauCallback, CSVLogger\n",
    "from torchvision import transforms, models\n",
    "from torch.utils.data import Dataset, DataLoader"
   ]
  },
  {
   "cell_type": "code",
   "execution_count": 4,
   "metadata": {},
   "outputs": [
    {
     "name": "stdout",
     "output_type": "stream",
     "text": [
      "/home/data/Project/work2\n"
     ]
    }
   ],
   "source": [
    "!pwd\n",
    "CURRENT_PATH = Path('.')"
   ]
  },
  {
   "cell_type": "markdown",
   "metadata": {},
   "source": [
    "## COCO (Read data)"
   ]
  },
  {
   "cell_type": "code",
   "execution_count": 5,
   "metadata": {},
   "outputs": [
    {
     "name": "stdout",
     "output_type": "stream",
     "text": [
      "40776\n",
      "82785\n",
      "40506\n"
     ]
    }
   ],
   "source": [
    "!find COCO/cocoapi/images/test2014/ | wc -l\n",
    "!find COCO/cocoapi/images/train2014/ | wc -l\n",
    "!find COCO/cocoapi/images/val2014/ | wc -l"
   ]
  },
  {
   "cell_type": "code",
   "execution_count": 5,
   "metadata": {},
   "outputs": [],
   "source": [
    "COCO_PATH = Path('COCO/cocoapi/')\n",
    "\n",
    "COCO_ANNOTATIONS = COCO_PATH/'annotations'\n",
    "\n",
    "COCO_TRAIN_ANNOTATIONS = COCO_ANNOTATIONS/'captions_train2014.json'\n",
    "COCO_VAL_ANNOTATIONS = COCO_ANNOTATIONS/'captions_val2014.json'\n",
    "\n",
    "COCO_TRAIN_PATH = COCO_PATH/'train'\n",
    "COCO_TEST_PATH = COCO_PATH/'test'\n",
    "COCO_VAL_PATH = COCO_PATH/'val'\n"
   ]
  },
  {
   "cell_type": "code",
   "execution_count": 7,
   "metadata": {},
   "outputs": [],
   "source": [
    "coco_train_json = json.load((COCO_TRAIN_ANNOTATIONS).open())\n",
    "coco_val_json = json.load((COCO_VAL_ANNOTATIONS).open())"
   ]
  },
  {
   "cell_type": "code",
   "execution_count": 8,
   "metadata": {},
   "outputs": [
    {
     "data": {
      "text/plain": [
       "({'license': 3,\n",
       "  'file_name': 'COCO_val2014_000000391895.jpg',\n",
       "  'coco_url': 'http://images.cocodataset.org/val2014/COCO_val2014_000000391895.jpg',\n",
       "  'height': 360,\n",
       "  'width': 640,\n",
       "  'date_captured': '2013-11-14 11:18:45',\n",
       "  'flickr_url': 'http://farm9.staticflickr.com/8186/8119368305_4e622c8349_z.jpg',\n",
       "  'id': 391895},\n",
       " {'image_id': 203564,\n",
       "  'id': 37,\n",
       "  'caption': 'A bicycle replica with a clock as the front wheel.'},\n",
       " 40504,\n",
       " 202654)"
      ]
     },
     "execution_count": 8,
     "metadata": {},
     "output_type": "execute_result"
    }
   ],
   "source": [
    "coco_val_json['images'][0], coco_val_json['annotations'][0], len(coco_val_json['images']), len(coco_val_json['annotations'])"
   ]
  },
  {
   "cell_type": "code",
   "execution_count": 9,
   "metadata": {},
   "outputs": [],
   "source": [
    "coco_drask_val_images = db.from_sequence(coco_val_json['images'])\n",
    "coco_drask_val_ann = db.from_sequence(coco_val_json['annotations'])\n",
    "coco_drask_train_images = db.from_sequence(coco_train_json['images'])\n",
    "coco_drask_train_ann = db.from_sequence(coco_train_json['annotations'])"
   ]
  },
  {
   "cell_type": "code",
   "execution_count": 10,
   "metadata": {},
   "outputs": [
    {
     "data": {
      "text/plain": [
       "({'license': 3,\n",
       "  'file_name': 'COCO_val2014_000000391895.jpg',\n",
       "  'coco_url': 'http://images.cocodataset.org/val2014/COCO_val2014_000000391895.jpg',\n",
       "  'height': 360,\n",
       "  'width': 640,\n",
       "  'date_captured': '2013-11-14 11:18:45',\n",
       "  'flickr_url': 'http://farm9.staticflickr.com/8186/8119368305_4e622c8349_z.jpg',\n",
       "  'id': 391895},\n",
       " {'license': 4,\n",
       "  'file_name': 'COCO_val2014_000000522418.jpg',\n",
       "  'coco_url': 'http://images.cocodataset.org/val2014/COCO_val2014_000000522418.jpg',\n",
       "  'height': 480,\n",
       "  'width': 640,\n",
       "  'date_captured': '2013-11-14 11:38:44',\n",
       "  'flickr_url': 'http://farm1.staticflickr.com/1/127244861_ab0c0381e7_z.jpg',\n",
       "  'id': 522418})"
      ]
     },
     "execution_count": 10,
     "metadata": {},
     "output_type": "execute_result"
    }
   ],
   "source": [
    "coco_drask_val_images.take(2)"
   ]
  },
  {
   "cell_type": "code",
   "execution_count": 11,
   "metadata": {},
   "outputs": [
    {
     "data": {
      "text/plain": [
       "({'image_id': 203564,\n",
       "  'id': 37,\n",
       "  'caption': 'A bicycle replica with a clock as the front wheel.'},\n",
       " {'image_id': 179765,\n",
       "  'id': 38,\n",
       "  'caption': 'A black Honda motorcycle parked in front of a garage.'})"
      ]
     },
     "execution_count": 11,
     "metadata": {},
     "output_type": "execute_result"
    }
   ],
   "source": [
    "coco_drask_val_ann.take(2)"
   ]
  },
  {
   "cell_type": "code",
   "execution_count": 12,
   "metadata": {},
   "outputs": [],
   "source": [
    "def generate_captions(drask_ann, drask_images, pname=None):\n",
    "    g1 = (drask_ann\n",
    "      .foldby(key='image_id', \n",
    "              binop=(lambda tot, x : tot + [x['caption']]), \n",
    "              initial=[], \n",
    "              combine=add, \n",
    "              combine_initial=[])\n",
    "      .map(lambda x: (x[0], x[1])))\n",
    "    \n",
    "    g2 = drask_images.map(lambda record: (record['id'], record['file_name']))\n",
    "    data = list(g1.join(delayed(g2), lambda x: x[0]).map(lambda x: (x[0][1], x[1][1])))\n",
    "    pickle.dump(data, open(pname, 'wb'))"
   ]
  },
  {
   "cell_type": "code",
   "execution_count": 13,
   "metadata": {},
   "outputs": [
    {
     "name": "stdout",
     "output_type": "stream",
     "text": [
      "CPU times: user 8.21 s, sys: 199 ms, total: 8.41 s\n",
      "Wall time: 10.6 s\n"
     ]
    }
   ],
   "source": [
    "#%time generate_captions(coco_drask_val_ann, coco_drask_val_images, COCO_PATH/'val_data.pk')"
   ]
  },
  {
   "cell_type": "code",
   "execution_count": 14,
   "metadata": {},
   "outputs": [
    {
     "name": "stdout",
     "output_type": "stream",
     "text": [
      "CPU times: user 17.9 s, sys: 379 ms, total: 18.3 s\n",
      "Wall time: 23 s\n"
     ]
    }
   ],
   "source": [
    "#%time generate_captions(coco_drask_train_ann, coco_drask_train_images, COCO_PATH/'train_data.pk')"
   ]
  },
  {
   "cell_type": "code",
   "execution_count": 6,
   "metadata": {},
   "outputs": [],
   "source": [
    "coco_valid_fns_caps = pickle.load(open(CURRENT_PATH/'coco_val_fns_caps.pkl', 'rb'))\n",
    "coco_train_fns_caps = pickle.load(open(CURRENT_PATH/'coco_train_fns_caps.pkl', 'rb'))"
   ]
  },
  {
   "cell_type": "code",
   "execution_count": 16,
   "metadata": {},
   "outputs": [
    {
     "name": "stdout",
     "output_type": "stream",
     "text": [
      "-rw-rw-r-- 1 shajikk shajikk 14798830 Jul 30 01:50 COCO/cocoapi/val_data.pk\n",
      "-rw-rw-r-- 1 shajikk shajikk 30439033 Jul 30 01:50 COCO/cocoapi/train_data.pk\n"
     ]
    }
   ],
   "source": [
    "!ls -altr {COCO_PATH}/'val_data.pk'\n",
    "!ls -altr {COCO_PATH}/'train_data.pk'"
   ]
  },
  {
   "cell_type": "code",
   "execution_count": 17,
   "metadata": {},
   "outputs": [
    {
     "data": {
      "text/plain": [
       "[('COCO_val2014_000000203564.jpg',\n",
       "  ['A bicycle replica with a clock as the front wheel.',\n",
       "   'The bike has a clock as a tire.',\n",
       "   'A black metal bicycle with a clock inside the front wheel.',\n",
       "   'A bicycle figurine in which the front wheel is replaced with a clock\\n',\n",
       "   'A clock with the appearance of the wheel of a bicycle ']),\n",
       " ('COCO_val2014_000000179765.jpg',\n",
       "  ['A black Honda motorcycle parked in front of a garage.',\n",
       "   'A Honda motorcycle parked in a grass driveway',\n",
       "   'A black Honda motorcycle with a dark burgundy seat.',\n",
       "   'Ma motorcycle parked on the gravel in front of a garage',\n",
       "   'A motorcycle with its brake extended standing outside'])]"
      ]
     },
     "execution_count": 17,
     "metadata": {},
     "output_type": "execute_result"
    }
   ],
   "source": [
    "coco_valid_fns_caps[:2]"
   ]
  },
  {
   "cell_type": "markdown",
   "metadata": {},
   "source": [
    "## VIZWIZ (read data)"
   ]
  },
  {
   "cell_type": "code",
   "execution_count": 18,
   "metadata": {},
   "outputs": [
    {
     "name": "stdout",
     "output_type": "stream",
     "text": [
      "8001\n",
      "23955\n",
      "7751\n"
     ]
    }
   ],
   "source": [
    "!find vizwiz/data/test/ | wc -l\n",
    "!find vizwiz/data/train/ | wc -l\n",
    "!find vizwiz/data/val/ | wc -l"
   ]
  },
  {
   "cell_type": "code",
   "execution_count": 9,
   "metadata": {},
   "outputs": [],
   "source": [
    "VIZWIZ_PATH = Path('vizwiz/data')\n",
    "\n",
    "VIZWIZ_ANNOTATIONS = VIZWIZ_PATH/'annotations'\n",
    "\n",
    "VIZWIZ_TRAIN_ANNOTATIONS = VIZWIZ_ANNOTATIONS/'train.json'\n",
    "VIZWIZ_VAL_ANNOTATIONS = VIZWIZ_ANNOTATIONS/'val.json'\n",
    "\n",
    "VIZWIZ_TRAIN_PATH = VIZWIZ_PATH/'train'\n",
    "VIZWIZ_VAL_PATH = VIZWIZ_PATH/'val'"
   ]
  },
  {
   "cell_type": "code",
   "execution_count": null,
   "metadata": {},
   "outputs": [],
   "source": [
    "!ls "
   ]
  },
  {
   "cell_type": "code",
   "execution_count": 20,
   "metadata": {},
   "outputs": [],
   "source": [
    "vizwiz_train_json = json.load((VIZWIZ_TRAIN_ANNOTATIONS).open())\n",
    "vizwiz_val_json = json.load((VIZWIZ_VAL_ANNOTATIONS).open())"
   ]
  },
  {
   "cell_type": "code",
   "execution_count": 21,
   "metadata": {},
   "outputs": [
    {
     "data": {
      "text/plain": [
       "({'file_name': 'VizWiz_val_00000000.jpg',\n",
       "  'vizwiz_url': 'https://ivc.ischool.utexas.edu/VizWiz_visualization_img/VizWiz_val_00000000.jpg',\n",
       "  'id': 23431,\n",
       "  'text_detected': True},\n",
       " {'caption': 'A computer screen shows a repair prompt on the screen.',\n",
       "  'image_id': 23431,\n",
       "  'is_precanned': False,\n",
       "  'is_rejected': False,\n",
       "  'id': 117155,\n",
       "  'text_detected': True},\n",
       " 7750,\n",
       " 38750)"
      ]
     },
     "execution_count": 21,
     "metadata": {},
     "output_type": "execute_result"
    }
   ],
   "source": [
    "vizwiz_val_json['images'][0], vizwiz_val_json['annotations'][0], len(vizwiz_val_json['images']), len(vizwiz_val_json['annotations'])"
   ]
  },
  {
   "cell_type": "code",
   "execution_count": 22,
   "metadata": {},
   "outputs": [],
   "source": [
    "vizwiz_drask_val_images = db.from_sequence(vizwiz_val_json['images'])\n",
    "vizwiz_drask_val_ann = db.from_sequence(vizwiz_val_json['annotations'])\n",
    "vizwiz_drask_train_images = db.from_sequence(vizwiz_train_json['images'])\n",
    "vizwiz_drask_train_ann = db.from_sequence(vizwiz_train_json['annotations'])"
   ]
  },
  {
   "cell_type": "code",
   "execution_count": 23,
   "metadata": {},
   "outputs": [],
   "source": [
    "vizwiz_drask_val_ann = vizwiz_drask_val_ann.filter(lambda x: x['is_rejected'] == False and x['is_precanned'] == False)\n",
    "vizwiz_drask_train_ann = vizwiz_drask_train_ann.filter(lambda x: x['is_rejected'] == False and x['is_precanned'] == False)"
   ]
  },
  {
   "cell_type": "code",
   "execution_count": 24,
   "metadata": {},
   "outputs": [
    {
     "name": "stdout",
     "output_type": "stream",
     "text": [
      "CPU times: user 1.93 s, sys: 92.8 ms, total: 2.03 s\n",
      "Wall time: 2.4 s\n"
     ]
    }
   ],
   "source": [
    "%time generate_captions(vizwiz_drask_val_ann, vizwiz_drask_val_images, VIZWIZ_PATH/'val_data.pk')"
   ]
  },
  {
   "cell_type": "code",
   "execution_count": 25,
   "metadata": {},
   "outputs": [
    {
     "name": "stdout",
     "output_type": "stream",
     "text": [
      "CPU times: user 5.59 s, sys: 146 ms, total: 5.74 s\n",
      "Wall time: 7.01 s\n"
     ]
    }
   ],
   "source": [
    "%time generate_captions(vizwiz_drask_train_ann, vizwiz_drask_train_images, VIZWIZ_PATH/'train_data.pk')"
   ]
  },
  {
   "cell_type": "code",
   "execution_count": 7,
   "metadata": {},
   "outputs": [],
   "source": [
    "vizwiz_valid_fns_caps = pickle.load(open(CURRENT_PATH/'vizwiz_val_fns_caps.pkl', 'rb'))"
   ]
  },
  {
   "cell_type": "code",
   "execution_count": 8,
   "metadata": {},
   "outputs": [],
   "source": [
    "vizwiz_train_fns_caps = pickle.load(open(CURRENT_PATH/'vizwiz_train_fns_caps.pkl', 'rb'))"
   ]
  },
  {
   "cell_type": "code",
   "execution_count": 28,
   "metadata": {},
   "outputs": [
    {
     "name": "stdout",
     "output_type": "stream",
     "text": [
      "-rw-rw-r-- 1 shajikk shajikk 2757076 Jul 30 01:50 vizwiz/data/val_data.pk\n"
     ]
    }
   ],
   "source": [
    "!ls -altr {VIZWIZ_PATH}/'val_data.pk'"
   ]
  },
  {
   "cell_type": "code",
   "execution_count": 29,
   "metadata": {},
   "outputs": [
    {
     "name": "stdout",
     "output_type": "stream",
     "text": [
      "-rw-rw-r-- 1 shajikk shajikk 8361353 Jul 30 01:51 vizwiz/data/train_data.pk\n"
     ]
    }
   ],
   "source": [
    "!ls -altr {VIZWIZ_PATH}/'train_data.pk'"
   ]
  },
  {
   "cell_type": "code",
   "execution_count": 30,
   "metadata": {},
   "outputs": [
    {
     "data": {
      "text/plain": [
       "[('VizWiz_val_00000000.jpg',\n",
       "  ['A computer screen shows a repair prompt on the screen.',\n",
       "   'a computer screen with a repair automatically pop up',\n",
       "   'partial computer screen showing the need of repairs',\n",
       "   'Part of a computer monitor showing a computer repair message.',\n",
       "   'The top of a laptop with a blue background and dark blue text.']),\n",
       " ('VizWiz_val_00000001.jpg',\n",
       "  ['A person is holding a bottle that has medicine for the night time.',\n",
       "   'A bottle of medication has a white twist top.',\n",
       "   'night time medication bottle being held by someone',\n",
       "   'a person holding a small black bottle of NIGHT TIME',\n",
       "   'A bottle of what appears to be cough syrup held in hand.'])]"
      ]
     },
     "execution_count": 30,
     "metadata": {},
     "output_type": "execute_result"
    }
   ],
   "source": [
    "vizwiz_valid_fns_caps[:2]"
   ]
  },
  {
   "cell_type": "code",
   "execution_count": 8,
   "metadata": {},
   "outputs": [
    {
     "data": {
      "text/plain": [
       "(7542, 22866)"
      ]
     },
     "execution_count": 8,
     "metadata": {},
     "output_type": "execute_result"
    }
   ],
   "source": [
    "len(vizwiz_valid_fns_caps), len(vizwiz_train_fns_caps)"
   ]
  },
  {
   "cell_type": "markdown",
   "metadata": {},
   "source": [
    "## Tokenize"
   ]
  },
  {
   "cell_type": "code",
   "execution_count": 32,
   "metadata": {},
   "outputs": [],
   "source": [
    "coco_train_caps = list(itertools.chain.from_iterable(list(zip(*coco_train_fns_caps))[1]))"
   ]
  },
  {
   "cell_type": "code",
   "execution_count": 33,
   "metadata": {},
   "outputs": [],
   "source": [
    "coco_valid_caps = list(itertools.chain.from_iterable(list(zip(*coco_valid_fns_caps))[1]))"
   ]
  },
  {
   "cell_type": "code",
   "execution_count": 34,
   "metadata": {},
   "outputs": [],
   "source": [
    "vizwiz_train_caps = list(itertools.chain.from_iterable(list(zip(*vizwiz_train_fns_caps))[1]))"
   ]
  },
  {
   "cell_type": "code",
   "execution_count": 35,
   "metadata": {},
   "outputs": [],
   "source": [
    "vizwiz_valid_caps = list(itertools.chain.from_iterable(list(zip(*vizwiz_valid_fns_caps))[1]))"
   ]
  },
  {
   "cell_type": "code",
   "execution_count": 36,
   "metadata": {},
   "outputs": [
    {
     "data": {
      "text/plain": [
       "750487"
      ]
     },
     "execution_count": 36,
     "metadata": {},
     "output_type": "execute_result"
    }
   ],
   "source": [
    "total_caps = coco_train_caps + coco_valid_caps + vizwiz_train_caps + vizwiz_valid_caps\n",
    "len(total_caps)"
   ]
  },
  {
   "cell_type": "code",
   "execution_count": 37,
   "metadata": {},
   "outputs": [
    {
     "data": {
      "text/plain": [
       "['A very clean and well decorated empty bathroom',\n",
       " 'A blue and white bathroom with butterfly themed wall tiles.']"
      ]
     },
     "execution_count": 37,
     "metadata": {},
     "output_type": "execute_result"
    }
   ],
   "source": [
    "total_caps[:2]"
   ]
  },
  {
   "cell_type": "code",
   "execution_count": 38,
   "metadata": {},
   "outputs": [],
   "source": [
    "tokenizer = Tokenizer(n_cpus=6)\n",
    "all_captions_tokenized = tokenizer.process_all(total_caps)"
   ]
  },
  {
   "cell_type": "code",
   "execution_count": 39,
   "metadata": {},
   "outputs": [],
   "source": [
    "vocab = Vocab.create(all_captions_tokenized, max_vocab=100000, min_freq=2)\n",
    "pickle.dump(vocab, open(CURRENT_PATH/\"vocab.pkl\", 'wb'))"
   ]
  },
  {
   "cell_type": "code",
   "execution_count": 9,
   "metadata": {},
   "outputs": [],
   "source": [
    "vocab = pickle.load((CURRENT_PATH/\"vocab.pkl\").open('rb'))"
   ]
  },
  {
   "cell_type": "code",
   "execution_count": 10,
   "metadata": {},
   "outputs": [
    {
     "data": {
      "text/plain": [
       "22400"
      ]
     },
     "execution_count": 10,
     "metadata": {},
     "output_type": "execute_result"
    }
   ],
   "source": [
    "len(vocab.itos)"
   ]
  },
  {
   "cell_type": "code",
   "execution_count": 42,
   "metadata": {},
   "outputs": [],
   "source": [
    "from dask.distributed import Client\n",
    "client = Client(processes = True)"
   ]
  },
  {
   "cell_type": "code",
   "execution_count": 43,
   "metadata": {},
   "outputs": [],
   "source": [
    "from multiprocessing import Pool, cpu_count, Queue\n",
    "from timeit import default_timer as timer"
   ]
  },
  {
   "cell_type": "code",
   "execution_count": 44,
   "metadata": {},
   "outputs": [],
   "source": [
    "num_processes = cpu_count() * 2\n",
    "\n",
    "def numericalize_tokens(tok):\n",
    "    return np.array([vocab.numericalize(q) + [1] for q in tok])\n",
    "\n",
    "def process_stuff(x):    \n",
    "    return((x[0], [ numericalize_tokens(tokenizer._process_all_1([e]))[0] for e in x[1]]))\n",
    "\n",
    "def build_data(fns_caps, PATH, name) :\n",
    "    print(len(fns_caps))\n",
    "    pool = Pool(processes=num_processes)\n",
    "    caps = fns_caps\n",
    "    results = [pool.apply_async(process_stuff, args=(x,)).get() for x in caps]\n",
    "    #output = [p.get() for p in results]\n",
    "    k = list(zip(*results))\n",
    "    print(\"Write : \", str(PATH)+\"/\"+name+\".pkl\")\n",
    "    pickle.dump(k, open(str(PATH)+\"/\"+name+\".pkl\", 'wb'))"
   ]
  },
  {
   "cell_type": "code",
   "execution_count": 45,
   "metadata": {},
   "outputs": [],
   "source": [
    "# def build_data(fns_caps, PATH, name):\n",
    "#     caps_arr = (db.from_sequence(fns_caps)\n",
    "#      .map(lambda x : (x[0], [ numericalize_tokens(tokenizer._process_all_1([e]))[0] for e in x[1]])   )).compute()\n",
    "#     dataset = list(zip(*caps_arr))\n",
    "#     print(\"Write : \", str(PATH)+\"/\"+name+\".pkl\")\n",
    "#     pickle.dump(dataset, open(str(PATH)+\"/\"+name+\".pkl\", 'wb'))"
   ]
  },
  {
   "cell_type": "code",
   "execution_count": 46,
   "metadata": {},
   "outputs": [
    {
     "name": "stdout",
     "output_type": "stream",
     "text": [
      "40504\n",
      "Write :  ./coco_valid_1.pkl\n",
      "CPU times: user 1min 54s, sys: 17.9 s, total: 2min 12s\n",
      "Wall time: 1h 41min 53s\n"
     ]
    }
   ],
   "source": [
    "%time build_data(coco_valid_fns_caps, CURRENT_PATH, \"coco_valid_1\")"
   ]
  },
  {
   "cell_type": "code",
   "execution_count": 14,
   "metadata": {},
   "outputs": [
    {
     "data": {
      "text/plain": [
       "40504"
      ]
     },
     "execution_count": 14,
     "metadata": {},
     "output_type": "execute_result"
    }
   ],
   "source": [
    "coco_valid_data = pickle.load(open(CURRENT_PATH/'coco_valid.pkl', 'rb'))\n",
    "len(coco_valid_data[0])"
   ]
  },
  {
   "cell_type": "code",
   "execution_count": 48,
   "metadata": {},
   "outputs": [
    {
     "name": "stdout",
     "output_type": "stream",
     "text": [
      "82783\n",
      "Write :  ./coco_train_1.pkl\n",
      "CPU times: user 3min 48s, sys: 41.3 s, total: 4min 29s\n",
      "Wall time: 3h 27min 47s\n"
     ]
    }
   ],
   "source": [
    "%time build_data(coco_train_fns_caps, CURRENT_PATH, \"coco_train_1\")"
   ]
  },
  {
   "cell_type": "code",
   "execution_count": 10,
   "metadata": {},
   "outputs": [
    {
     "data": {
      "text/plain": [
       "82783"
      ]
     },
     "execution_count": 10,
     "metadata": {},
     "output_type": "execute_result"
    }
   ],
   "source": [
    "coco_train_data = pickle.load(open(CURRENT_PATH/'coco_train.pkl', 'rb'))\n",
    "len(coco_train_data[0])"
   ]
  },
  {
   "cell_type": "code",
   "execution_count": 50,
   "metadata": {},
   "outputs": [
    {
     "name": "stdout",
     "output_type": "stream",
     "text": [
      "7542\n",
      "Write :  ./vizwiz_valid_1.pkl\n",
      "CPU times: user 18.8 s, sys: 3.8 s, total: 22.6 s\n",
      "Wall time: 16min 51s\n"
     ]
    }
   ],
   "source": [
    "%time build_data(vizwiz_valid_fns_caps, CURRENT_PATH, \"vizwiz_valid_1\")"
   ]
  },
  {
   "cell_type": "code",
   "execution_count": 11,
   "metadata": {},
   "outputs": [
    {
     "data": {
      "text/plain": [
       "7542"
      ]
     },
     "execution_count": 11,
     "metadata": {},
     "output_type": "execute_result"
    }
   ],
   "source": [
    "vizwiz_valid_data = pickle.load(open(CURRENT_PATH/'vizwiz_valid.pkl', 'rb'))\n",
    "len(vizwiz_valid_data[0])"
   ]
  },
  {
   "cell_type": "code",
   "execution_count": 52,
   "metadata": {},
   "outputs": [
    {
     "name": "stdout",
     "output_type": "stream",
     "text": [
      "22866\n",
      "Write :  ./vizwiz_train_1.pkl\n",
      "CPU times: user 59.2 s, sys: 12.9 s, total: 1min 12s\n",
      "Wall time: 51min 17s\n"
     ]
    }
   ],
   "source": [
    "%time build_data(vizwiz_train_fns_caps, CURRENT_PATH, \"vizwiz_train_1\")"
   ]
  },
  {
   "cell_type": "code",
   "execution_count": 12,
   "metadata": {},
   "outputs": [
    {
     "data": {
      "text/plain": [
       "22866"
      ]
     },
     "execution_count": 12,
     "metadata": {},
     "output_type": "execute_result"
    }
   ],
   "source": [
    "vizwiz_train_data = pickle.load(open(CURRENT_PATH/'vizwiz_train.pkl', 'rb'))\n",
    "len(vizwiz_train_data[0])"
   ]
  },
  {
   "cell_type": "code",
   "execution_count": 15,
   "metadata": {},
   "outputs": [
    {
     "data": {
      "text/plain": [
       "([array([   9,  414, 4517,   15,    9,  101,  134,   13,   43, 1152,   10,    1]),\n",
       "  array([   5,   13,  286,   48,    9,  101,  134,    9, 2054,   10,    1]),\n",
       "  array([   9,   35,  315,  414,   15,    9,  101,  167,   13,   43, 1152,   10,    1]),\n",
       "  array([   9,  414, 1988,   14,  446,   13,   43, 1152,   17, 8094,   15,    9,  101,  426,    1]),\n",
       "  array([   9,  101,   15,   13, 7865,   11,   13, 1152,   11,    9,  414,    1])],\n",
       " [array([   9,   35,    5, 5164,  162,   90,   14,   43,   11,    9, 1161,   10,    1]),\n",
       "  array([   9,    5, 5164,  162,   90,   14,    9,   82, 1519,    1]),\n",
       "  array([   9,   35,    5, 5164,  162,   15,    9,  244, 3488,  489,   10,    1]),\n",
       "  array([   5, 6408,  162,   90,   12,   13, 1681,   14,   43,   11,    9, 1161,    1]),\n",
       "  array([   9,  162,   15,  163, 6388, 2217,   27,  141,    1])])"
      ]
     },
     "execution_count": 15,
     "metadata": {},
     "output_type": "execute_result"
    }
   ],
   "source": [
    "coco_valid_data[1][:2]"
   ]
  },
  {
   "cell_type": "code",
   "execution_count": 19,
   "metadata": {},
   "outputs": [],
   "source": [
    "all_train_fns_caps = coco_train_fns_caps + vizwiz_train_fns_caps"
   ]
  },
  {
   "cell_type": "code",
   "execution_count": 20,
   "metadata": {},
   "outputs": [],
   "source": [
    "all_valid_fns_caps = coco_valid_fns_caps + vizwiz_valid_fns_caps"
   ]
  },
  {
   "cell_type": "code",
   "execution_count": 26,
   "metadata": {},
   "outputs": [
    {
     "data": {
      "text/plain": [
       "[('COCO_train2014_000000318556.jpg',\n",
       "  ['A very clean and well decorated empty bathroom',\n",
       "   'A blue and white bathroom with butterfly themed wall tiles.',\n",
       "   'A bathroom with a border of butterflies and blue paint on the walls above it.',\n",
       "   'An angled view of a beautifully decorated bathroom.',\n",
       "   'A clock that blends in with the wall hangs in a bathroom. '])]"
      ]
     },
     "execution_count": 26,
     "metadata": {},
     "output_type": "execute_result"
    }
   ],
   "source": [
    "all_train_fns_caps[:1]"
   ]
  },
  {
   "cell_type": "code",
   "execution_count": 21,
   "metadata": {},
   "outputs": [
    {
     "data": {
      "text/plain": [
       "(105649, 48046)"
      ]
     },
     "execution_count": 21,
     "metadata": {},
     "output_type": "execute_result"
    }
   ],
   "source": [
    "len(all_train_fns_caps), len(all_valid_fns_caps)"
   ]
  },
  {
   "cell_type": "code",
   "execution_count": 35,
   "metadata": {},
   "outputs": [],
   "source": [
    "all_train_data = [[],[]]\n",
    "all_val_data = [[],[]]\n",
    "all_train_data[0] = coco_train_data[0] + vizwiz_train_data[0]\n",
    "all_train_data[1] = coco_train_data[1] + vizwiz_train_data[1]\n",
    "all_valid_data[0] = coco_valid_data[0] + vizwiz_valid_data[0]\n",
    "all_valid_data[1] = coco_valid_data[1] + vizwiz_valid_data[1]"
   ]
  },
  {
   "cell_type": "code",
   "execution_count": 36,
   "metadata": {},
   "outputs": [
    {
     "data": {
      "text/plain": [
       "(105649, 48046)"
      ]
     },
     "execution_count": 36,
     "metadata": {},
     "output_type": "execute_result"
    }
   ],
   "source": [
    "len(all_train_data[0]), len(all_valid_data[0])"
   ]
  },
  {
   "cell_type": "code",
   "execution_count": 38,
   "metadata": {},
   "outputs": [],
   "source": [
    "pickle.dump(all_train_fns_caps, open(\"all_train_fns_caps.pkl\", 'wb'))\n",
    "pickle.dump(all_valid_fns_caps, open(\"all_valid_fns_caps.pkl\", 'wb'))\n",
    "pickle.dump(all_train_data, open(\"all_train_data.pkl\", 'wb'))\n",
    "pickle.dump(all_valid_data, open(\"all_valid_data.pkl\", 'wb'))"
   ]
  },
  {
   "cell_type": "markdown",
   "metadata": {},
   "source": [
    "## Load the test set"
   ]
  },
  {
   "cell_type": "code",
   "execution_count": 40,
   "metadata": {},
   "outputs": [
    {
     "name": "stdout",
     "output_type": "stream",
     "text": [
      "test.json  train.json  val.json\n"
     ]
    }
   ],
   "source": [
    "!ls {VIZWIZ_ANNOTATIONS}"
   ]
  },
  {
   "cell_type": "code",
   "execution_count": 41,
   "metadata": {},
   "outputs": [],
   "source": [
    "coco_test_json = json.load((VIZWIZ_ANNOTATIONS/'test.json').open())"
   ]
  },
  {
   "cell_type": "code",
   "execution_count": 42,
   "metadata": {},
   "outputs": [],
   "source": [
    "vizwiz_drask_test_images = db.from_sequence(coco_test_json['images'])"
   ]
  },
  {
   "cell_type": "code",
   "execution_count": 43,
   "metadata": {},
   "outputs": [
    {
     "data": {
      "text/plain": [
       "({'file_name': 'VizWiz_test_00000000.jpg',\n",
       "  'vizwiz_url': 'https://ivc.ischool.utexas.edu/VizWiz_visualization_img/VizWiz_test_00000000.jpg',\n",
       "  'id': 31181,\n",
       "  'text_detected': True},)"
      ]
     },
     "execution_count": 43,
     "metadata": {},
     "output_type": "execute_result"
    }
   ],
   "source": [
    "vizwiz_drask_test_images.take(1)"
   ]
  },
  {
   "cell_type": "code",
   "execution_count": 44,
   "metadata": {},
   "outputs": [],
   "source": [
    "CURRENT_PATH = Path('.')\n",
    "def get_path(fn, path=CURRENT_PATH, tag='val') :\n",
    "    if (\"COCO_\" in fn and tag == 'val') : fn = path/'COCO'/'cocoapi'/'images'/'val2014'/fn\n",
    "    elif (\"VizWiz_\" in fn and tag == 'val') : fn = path/'vizwiz'/'data'/'val'/fn\n",
    "    elif (\"VizWiz_\" in fn and tag == 'test') : fn = path/'vizwiz'/'data'/'test'/fn\n",
    "    elif (\"COCO_\" in fn and tag == 'train') : fn = path/'COCO'/'cocoapi'/'images'/'train2014'/fn\n",
    "    elif (\"VizWiz_\" in fn and tag == 'train') : fn = path/'vizwiz'/'data'/'train'/fn\n",
    "    else : fn = 'error'\n",
    "    return fn"
   ]
  },
  {
   "cell_type": "code",
   "execution_count": 45,
   "metadata": {},
   "outputs": [
    {
     "data": {
      "text/plain": [
       "({'file_name': PosixPath('vizwiz/data/test/VizWiz_test_00000000.jpg'),\n",
       "  'image_id': 31181,\n",
       "  'caption': ''},\n",
       " {'file_name': PosixPath('vizwiz/data/test/VizWiz_test_00000001.jpg'),\n",
       "  'image_id': 31182,\n",
       "  'caption': ''})"
      ]
     },
     "execution_count": 45,
     "metadata": {},
     "output_type": "execute_result"
    }
   ],
   "source": [
    "mapped_data = vizwiz_drask_test_images.map(lambda record: ({'file_name' : get_path(record['file_name'], CURRENT_PATH, 'test'), \n",
    "                                                            'image_id' : record['id'],  \n",
    "                                                            'caption' : \"\"}))\n",
    "\n",
    "\n",
    "mapped_data.take(2)"
   ]
  },
  {
   "cell_type": "code",
   "execution_count": 47,
   "metadata": {},
   "outputs": [],
   "source": [
    "vizwiz_test_dict = mapped_data.compute()"
   ]
  },
  {
   "cell_type": "code",
   "execution_count": 48,
   "metadata": {},
   "outputs": [],
   "source": [
    "pickle.dump(vizwiz_test_dict, open(\"vizwiz_test_dict.pkl\", 'wb'))"
   ]
  },
  {
   "cell_type": "code",
   "execution_count": 82,
   "metadata": {},
   "outputs": [],
   "source": [
    "vizwiz_result = []\n",
    "vizwiz_result_all = []\n",
    "vizwiz_test_dict = pickle.load(open(CURRENT_PATH/'vizwiz_test_dict.pkl', 'rb'))\n",
    "for v in vizwiz_test_dict :\n",
    "    file = v['file_name']\n",
    "    caption = 'test'\n",
    "    vizwiz_result.append({ 'image_id' : v['image_id'], 'caption' : caption})\n",
    "    vizwiz_result_all.append({ 'image_id' : v['image_id'], 'caption' : caption, 'file_name' : v['file_name']})\n",
    "    #print(v['file_name'])\n",
    "    \n",
    "json_object = json.dumps(vizwiz_result, indent = 4)   \n",
    "with open('vizwiz_result.json', 'w') as fp: fp.write(json_object)"
   ]
  },
  {
   "cell_type": "code",
   "execution_count": 86,
   "metadata": {},
   "outputs": [
    {
     "data": {
      "text/plain": [
       "8000"
      ]
     },
     "execution_count": 86,
     "metadata": {},
     "output_type": "execute_result"
    }
   ],
   "source": [
    "len(vizwiz_result_all)"
   ]
  },
  {
   "cell_type": "code",
   "execution_count": null,
   "metadata": {},
   "outputs": [],
   "source": []
  }
 ],
 "metadata": {
  "kernelspec": {
   "display_name": "Python 3",
   "language": "python",
   "name": "python3"
  },
  "language_info": {
   "codemirror_mode": {
    "name": "ipython",
    "version": 3
   },
   "file_extension": ".py",
   "mimetype": "text/x-python",
   "name": "python",
   "nbconvert_exporter": "python",
   "pygments_lexer": "ipython3",
   "version": "3.7.7"
  }
 },
 "nbformat": 4,
 "nbformat_minor": 4
}
